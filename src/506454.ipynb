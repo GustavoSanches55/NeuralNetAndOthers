{
 "cells": [
  {
   "cell_type": "code",
   "execution_count": 1,
   "metadata": {},
   "outputs": [],
   "source": [
    "import pandas as pd\n",
    "import numpy as np\n",
    "import matplotlib.pyplot as plt\n",
    "from sklearn.metrics import accuracy_score\n",
    "from sklearn.model_selection import train_test_split"
   ]
  },
  {
   "cell_type": "markdown",
   "metadata": {},
   "source": [
    "<hr>\n",
    "\n",
    "## **1)** Five layer perceptron regressor"
   ]
  },
  {
   "cell_type": "markdown",
   "metadata": {},
   "source": [
    "a) Load the data into a pandas DataFrame, and get a scikit-learn compatible dataset. Use\n",
    "the “target” column as the target variable."
   ]
  },
  {
   "cell_type": "code",
   "execution_count": 2,
   "metadata": {},
   "outputs": [],
   "source": [
    "# Load the dataset\n",
    "full_data_part1 = pd.read_csv(\"Part 1.tsv\", sep=\"\\t\")\n",
    "\n",
    "# Using only half of the data\n",
    "partial_data = full_data_part1.head(int(full_data_part1.shape[0]/2))\n",
    "\n",
    "features = [x for x in partial_data.columns.drop(\"target\")]\n",
    "\n",
    "X = partial_data[features]\n",
    "y = partial_data[\"target\"]"
   ]
  },
  {
   "cell_type": "markdown",
   "metadata": {},
   "source": [
    "b) Make a 70%/30% split of the dataset for training and testing respectively."
   ]
  },
  {
   "cell_type": "code",
   "execution_count": 3,
   "metadata": {},
   "outputs": [
    {
     "name": "stdout",
     "output_type": "stream",
     "text": [
      "Tamanho de treino: (3500, 6)\n",
      "Tamanho de teste: (1500, 6)\n"
     ]
    }
   ],
   "source": [
    "X_train, X_test, y_train, y_test = train_test_split(X, y, test_size=0.30, random_state=0)\n",
    "\n",
    "print(f\"Tamanho de treino: {X_train.shape}\")\n",
    "print(f\"Tamanho de teste: {X_test.shape}\")"
   ]
  },
  {
   "cell_type": "markdown",
   "metadata": {},
   "source": [
    "c) Using numpy, create a scikit-learn regressor that implements a multilayer perceptron\n",
    "architecture with 5 hidden layers.\n",
    "- The dimensionality of each layer is your decision.\n",
    "- Each hidden layer must have a bias unit.\n",
    "- All activations should be the sigmoid function.\n",
    "- You must use the backpropagation algorithm to calculate the derivatives.\n",
    "- Use mini-batch gradient descent to update the weights.\n",
    "- The parameters of the estimator are the following:\n",
    "    - **learning_rate:** A float number that determines the learning rate used for\n",
    "updating the weights on the update step of the gradient descent.\n",
    "    - **batch_size**: An integer that determines the number of datapoints that\n",
    "are included in each mini-batch.\n",
    "    - **epochs**: An integer that determines the number of times the training\n",
    "goes through all the datapoints"
   ]
  },
  {
   "cell_type": "code",
   "execution_count": 4,
   "metadata": {},
   "outputs": [],
   "source": [
    "from sklearn.base import BaseEstimator, ClassifierMixin, RegressorMixin\n",
    "\n",
    "class FiveLayerPerceptronRegressor(BaseEstimator, RegressorMixin):\n",
    "    def __init__(self, learning_rate=0.01, batch_size=100, epochs=100, size_hidden=100):\n",
    "        self.epochs = epochs\n",
    "        self.learning_rate = learning_rate\n",
    "        self.batch_size = batch_size\n",
    "        self.size_hidden = size_hidden\n",
    "\n",
    "        self.rng = np.random.default_rng(0)\n",
    "\n",
    "        self.training_losses = np.zeros(self.epochs)\n",
    "\n",
    "    # function of sigmoid\n",
    "    def _sigmoid(self, Z):\n",
    "        return 1.0 / (1.0 + np.exp(-Z))\n",
    "\n",
    "    # function of sigmoid derivative\n",
    "    def _sigmoid_derivative(self, Z):\n",
    "        x = self._sigmoid(Z)\n",
    "        return x * (1 - x)\n",
    "\n",
    "    # function of cost function\n",
    "    def cost_function(self, y, y_hat):\n",
    "        return np.sum(np.square(y_hat - y)) * 1/2 \n",
    "\n",
    "    # function of accuracy\n",
    "    def cost_gradient(self, y, y_hat):\n",
    "        return (y_hat - y)\n",
    "\n",
    "    # forward propagation\n",
    "    def _forward_propagation(self, X):\n",
    "        self.Z = []\n",
    "        self.A = []\n",
    "\n",
    "        # iterate over the hidden layers\n",
    "        for i in range(5):\n",
    "            self.Z.append((X @ self._W[i]))\n",
    "            self.A.append(self._sigmoid(self.Z[i]))\n",
    "            self.A[i] = np.c_[np.ones((self.A[i].shape[0],1)), self.A[i]]\n",
    "            X = self.A[i]\n",
    "\n",
    "        # last layer\n",
    "        self.Z.append((self.A[-1] @ self._W[-1]))\n",
    "        self.A.append(self.Z[-1])\n",
    "        # return prediction\n",
    "\n",
    "        return self.A[-1]\n",
    "\n",
    "    # function of backward propagation for regression\n",
    "    def _backward_propagation(self, X, y):\n",
    "        dA = []\n",
    "        dW = []\n",
    "        delta = []\n",
    "\n",
    "        # last layer\n",
    "        dA.append(self.cost_gradient(y, self.A[-1]))\n",
    "        delta.append(dA[0])\n",
    "        dW.append((self.A[-2].T @ delta[0]))\n",
    "\n",
    "        # iterate over the layers until the first hidden layer\n",
    "        for i in range(5, 1, -1):   \n",
    "            dA.append((delta[-1] @ self._W[i][1:,:].T))\n",
    "            delta.append(dA[-1] * self._sigmoid_derivative(self.Z[i-1]))\n",
    "            dW.append((self.A[i-2].T @ delta[-1]))\n",
    "\n",
    "        # first layer\n",
    "        dA.append((delta[-1] @ self._W[1][1:,:].T))\n",
    "        delta.append(dA[-1] * self._sigmoid_derivative(self.Z[0]))\n",
    "        dW.append((X.T @ delta[-1]))\n",
    "\n",
    "        # reverse the order of dW\n",
    "        dW.reverse()\n",
    "\n",
    "        # return dW\n",
    "        return dW\n",
    "        \n",
    "    # function of weight update\n",
    "    def _weight_update(self, dW, curr):\n",
    "        # update the weights\n",
    "        for i in range(len(dW)):\n",
    "            self._W[i] -= (self.learning_rate * dW[i]) / curr\n",
    "\n",
    "    # function of training\n",
    "    def fit(self, X, y):\n",
    "        n, m = X.shape\n",
    "\n",
    "        # prepare the inputs\n",
    "        _X = np.c_[np.ones((n,1)), X]\n",
    "        y = y.to_numpy()\n",
    "        _y = y[:,np.newaxis]\n",
    "\n",
    "        self._W = []\n",
    "\n",
    "        # initialize the weights\n",
    "        self._W.append(np.random.randn(m+1, self.size_hidden))\n",
    "        for i in range(4):\n",
    "            self._W.append(np.random.randn(self.size_hidden+1, self.size_hidden))\n",
    "        self._W.append(np.random.randn(self.size_hidden+1, 1))\n",
    "\n",
    "        n_batches = (n + self.batch_size - 1) // self.batch_size\n",
    "\n",
    "        # iterate over the epochs\n",
    "        for epoch in range(self.epochs):\n",
    "            for b in range(n_batches):\n",
    "                _X_batch = _X[b * self.batch_size : (b + 1) * self.batch_size]\n",
    "                _y_batch = _y[b * self.batch_size : (b + 1) * self.batch_size]\n",
    "                # get the predictions for the current weights\n",
    "                y_pred = self._forward_propagation(_X_batch)\n",
    "                curr_batch_size = _y_batch.shape[0]\n",
    "                # update the weights\n",
    "                dW = self._backward_propagation(_X_batch, _y_batch)\n",
    "                self._weight_update(dW, curr_batch_size)\n",
    "            # store the training loss for the current epoch\n",
    "            y_pred = self._forward_propagation(_X)\n",
    "            self.training_losses[epoch] = self.cost_function(_y, y_pred)\n",
    "\n",
    "    # predict function\n",
    "    def predict(self, X):\n",
    "        n, m = X.shape\n",
    "        _X = np.c_[np.ones((n, 1)), X]\n",
    "        \n",
    "        return self._forward_propagation(_X)"
   ]
  },
  {
   "cell_type": "markdown",
   "metadata": {},
   "source": [
    "d) Train the estimator you implemented using the training set. Use the trained estimator\n",
    "to predict values for the test set."
   ]
  },
  {
   "cell_type": "code",
   "execution_count": 5,
   "metadata": {},
   "outputs": [
    {
     "name": "stdout",
     "output_type": "stream",
     "text": [
      "[[-277.60076259]\n",
      " [ -23.21560839]\n",
      " [ -77.09178557]\n",
      " [  60.1792081 ]\n",
      " [-210.2641528 ]]\n"
     ]
    }
   ],
   "source": [
    "model = FiveLayerPerceptronRegressor(epochs=100, learning_rate=0.01, batch_size=100)\n",
    "model.fit(X_train, y_train)\n",
    "\n",
    "y_pred = model.predict(X_test)\n",
    "print(y_pred[:5,:])"
   ]
  },
  {
   "cell_type": "markdown",
   "metadata": {},
   "source": [
    "e) Use the scikit-learn MLPRegressor estimator. Train it on the training test and generate\n",
    "predictions for the test set."
   ]
  },
  {
   "cell_type": "code",
   "execution_count": 6,
   "metadata": {},
   "outputs": [],
   "source": [
    "from sklearn.neural_network import MLPRegressor\n",
    "mlp = MLPRegressor(hidden_layer_sizes=(100,), \\\n",
    "    learning_rate_init=0.1, activation=\"logistic\",\\\n",
    "    batch_size=100)\n",
    "mlp.fit(X_train, y_train)\n",
    "y_mlp_pred = mlp.predict(X_test)"
   ]
  },
  {
   "cell_type": "markdown",
   "metadata": {},
   "source": [
    "f) Compare the performance of both models using the mean squared error metric from\n",
    "scikit-learn"
   ]
  },
  {
   "cell_type": "code",
   "execution_count": 7,
   "metadata": {},
   "outputs": [
    {
     "data": {
      "text/plain": [
       "array([[-277.60076259, -280.18966885],\n",
       "       [ -23.21560839,  -25.10683992],\n",
       "       [ -77.09178557,  -76.02656094],\n",
       "       [  60.1792081 ,   60.90684015],\n",
       "       [-210.2641528 , -205.71654599]])"
      ]
     },
     "execution_count": 7,
     "metadata": {},
     "output_type": "execute_result"
    }
   ],
   "source": [
    "np.c_[y_pred, y_mlp_pred][:5,:]"
   ]
  },
  {
   "cell_type": "code",
   "execution_count": 8,
   "metadata": {},
   "outputs": [
    {
     "name": "stdout",
     "output_type": "stream",
     "text": [
      "13.495471287020667 9.145724557320888\n"
     ]
    }
   ],
   "source": [
    "from sklearn.metrics import mean_squared_error\n",
    "print(mean_squared_error(y_test, y_pred), mean_squared_error(y_test, y_mlp_pred))"
   ]
  },
  {
   "cell_type": "code",
   "execution_count": 9,
   "metadata": {},
   "outputs": [
    {
     "data": {
      "text/plain": [
       "Text(0.5, 1.0, 'Training Loss')"
      ]
     },
     "execution_count": 9,
     "metadata": {},
     "output_type": "execute_result"
    },
    {
     "data": {
      "image/png": "[encoded data removed]",
      "text/plain": [
       "<Figure size 720x360 with 1 Axes>"
      ]
     },
     "metadata": {
      "needs_background": "light"
     },
     "output_type": "display_data"
    }
   ],
   "source": [
    "import matplotlib.pyplot as plt\n",
    "\n",
    "fig, ax = plt.subplots(figsize=(10,5))\n",
    "\n",
    "ax.plot(model.training_losses)\n",
    "ax.set_xlabel(\"Epochs\")\n",
    "ax.set_ylabel(\"Loss\")\n",
    "ax.set_title(\"Training Loss\")"
   ]
  },
  {
   "cell_type": "markdown",
   "metadata": {},
   "source": [
    "<hr>\n",
    "\n",
    "## **2)** multi layers perceptron classifier"
   ]
  },
  {
   "cell_type": "markdown",
   "metadata": {},
   "source": [
    "a) Load the data into a pandas DataFrame, and get a scikit-learn compatible dataset. Use\n",
    "the “target” column as the target variable"
   ]
  },
  {
   "cell_type": "code",
   "execution_count": 10,
   "metadata": {},
   "outputs": [],
   "source": [
    "# Load the dataset\n",
    "full_data_part2 = pd.read_csv(\"Part 2.tsv\", sep=\"\\t\")\n",
    "\n",
    "# Using only half of the data\n",
    "partial_data_2 = full_data_part2.head(int(full_data_part2.shape[0]))\n",
    "\n",
    "features_2 = [x for x in partial_data_2.columns.drop(\"target\")]\n",
    "\n",
    "X_2 = partial_data_2[features_2]\n",
    "y_2 = partial_data_2[\"target\"]\n"
   ]
  },
  {
   "cell_type": "markdown",
   "metadata": {},
   "source": [
    "b) Make a 70%/30% split of the dataset for training and testing respectively"
   ]
  },
  {
   "cell_type": "code",
   "execution_count": 11,
   "metadata": {},
   "outputs": [
    {
     "name": "stdout",
     "output_type": "stream",
     "text": [
      "Tamanho de treino: (7000, 4)\n",
      "Tamanho de teste: (3000, 4)\n"
     ]
    }
   ],
   "source": [
    "X_train_2, X_test_2, y_train_2, y_test_2 = train_test_split(X_2, y_2, test_size=0.30, random_state=0)\n",
    "\n",
    "print(f\"Tamanho de treino: {X_train_2.shape}\")\n",
    "print(f\"Tamanho de teste: {X_test_2.shape}\")"
   ]
  },
  {
   "cell_type": "markdown",
   "metadata": {},
   "source": [
    "c) Using numpy, create a scikit-learn classifier that implements a multilayer perceptron\n",
    "with the following parameters:\n",
    "- Each hidden layer must have a bias unit.\n",
    "- All activations should be the sigmoid function.\n",
    "- You must use the backpropagation algorithm to calculate the derivatives.\n",
    "- Use mini-batch gradient descent to update the weights.\n",
    "- The parameters of the estimator are the following:\n",
    "    - **hidden_layers_dimensions**: A list of integers that determines the number\n",
    "and dimensionality of the hidden layers. The number of items on the list\n",
    "determine the number of hidden layers. The first element of the list (at\n",
    "index 0) is the dimensionality of the first hidden layer (connected to the\n",
    "input). The last element is the dimensionality of the hidden layer\n",
    "(connected to the output layer). The dimensionality does not include the\n",
    "bias term. The dimensionality of the input and output layers should be\n",
    "inferred from the dimensionality of the data.\n",
    "For example: A list [4,3,2] will generate 3 hidden layers with dimensions\n",
    "4, 3, and 2, respectively. If we count the bias units, the dimensions are 5,\n",
    "4, 3.\n",
    "    - **learning_rate**: A float number that determines the learning rate used for\n",
    "updating the weights in gradient descent.\n",
    "    - **batch_size**: An integer that determines the number of datapoints that\n",
    "are included in each mini-batch.\n",
    "    - **epochs**: An integer that determines the number of times the training\n",
    "goes through all the datapoints."
   ]
  },
  {
   "cell_type": "code",
   "execution_count": 12,
   "metadata": {},
   "outputs": [],
   "source": [
    "# Class of a neural network for classification\n",
    "class NeuralNetClass(BaseEstimator, ClassifierMixin):\n",
    "    def __init__(self, hidden_layer_dimensions, learning_rate, batch_size\n",
    "                    , epochs):\n",
    "        self.hidden_layer_dimensions = hidden_layer_dimensions\n",
    "        self.size_of_hidden = len(hidden_layer_dimensions) # how many hidden layers\n",
    "        self.learning_rate = learning_rate\n",
    "        self.batch_size = batch_size\n",
    "        self.epochs = epochs\n",
    "        self.training_losses = np.zeros(self.epochs)\n",
    "        self.rng = np.random.default_rng(3)\n",
    "\n",
    "    # function of sigmoid\n",
    "    def _sigmoid(self, Z):\n",
    "        return 1.0 / (1.0 + np.exp(-Z))\n",
    "\n",
    "    # function of sigmoid derivative\n",
    "    def _sigmoid_derivative(self, Z):\n",
    "        x = self._sigmoid(Z)\n",
    "        return x * (1.0 - x)\n",
    "\n",
    "    # function of cost function\n",
    "    def cost_function(self, y, y_hat):\n",
    "        return -np.mean(y * np.log(y_hat) + (1 - y) * np.log(1 - y_hat))\n",
    "\n",
    "    # function of cost function derivative\n",
    "    def cost_gradient(self, y, y_hat):\n",
    "        return -np.divide(y, y_hat) + np.divide(1.0 - y, 1.0 - y_hat)\n",
    "\n",
    "    # function of forward propagation\n",
    "    def _forward_propagation(self, X):\n",
    "        self.Z = []\n",
    "        self.A = []\n",
    "\n",
    "        # iterate over the hidden layers\n",
    "        for i in range(self.size_of_hidden):\n",
    "            self.Z.append((X @ self._W[i]))\n",
    "            self.A.append(self._sigmoid(self.Z[i]))\n",
    "            self.A[i] = np.c_[np.ones((self.A[i].shape[0],1)), self.A[i]]\n",
    "            X = self.A[i]\n",
    "\n",
    "        # get the output layer\n",
    "        self.Z.append((self.A[-1] @ self._W[-1]))\n",
    "        self.A.append(self._sigmoid(self.Z[-1]))\n",
    "\n",
    "        # return the output layer\n",
    "        return self.A[-1]\n",
    "\n",
    "    def _backward_propagation(self, X, y):\n",
    "        dA = []\n",
    "        dW = []\n",
    "        dZ = []\n",
    "\n",
    "        # last layer\n",
    "        dA.append(self.cost_gradient(y, self.A[-1]))\n",
    "        dZ.append(dA[0] * self._sigmoid_derivative(self.Z[-1]))\n",
    "        dW.append(self.A[-2].T @ dZ[0])\n",
    "\n",
    "        # iterate over the hidden layers\n",
    "        for i in range(self.size_of_hidden, 1, -1):\n",
    "            dA.append(dZ[-1] @ self._W[i][1:,:].T)\n",
    "            dZ.append(dA[-1] * self._sigmoid_derivative(self.Z[i-1]))\n",
    "            dW.append(self.A[i-2].T @ dZ[-1])\n",
    "        \n",
    "        # first layer\n",
    "        dA.append(dZ[-1] @ self._W[1][1:,:].T)\n",
    "        dZ.append(dA[-1] * self._sigmoid_derivative(self.Z[0]))\n",
    "        dW.append(X.T @ dZ[-1])\n",
    "\n",
    "        # reverse dW\n",
    "        dW.reverse()\n",
    "\n",
    "        # return dW\n",
    "        return dW\n",
    "\n",
    "    # function of weight update\n",
    "    def _weight_update(self, dW, curr_batch_size):\n",
    "        for i in range(len(self._W)):\n",
    "            self._W[i] -= (self.learning_rate * dW[i])\n",
    "\n",
    "    # function of training\n",
    "    def fit(self, X, y):\n",
    "        # get input right\n",
    "        m, n = X.shape\n",
    "        _X = np.c_[np.ones((m, 1)), X]\n",
    "        y = y.to_numpy()\n",
    "        _y = y[:, np.newaxis]\n",
    "\n",
    "        # initialize weights\n",
    "        self._W = []\n",
    "        self._W.append(self.rng.normal(size=(n+1, self.hidden_layer_dimensions[0])))\n",
    "        for i in range(1, self.size_of_hidden):\n",
    "            self._W.append(self.rng.normal(size=(self.hidden_layer_dimensions[i-1]+1, self.hidden_layer_dimensions[i])))\n",
    "        self._W.append(self.rng.normal(size=(self.hidden_layer_dimensions[-1]+1, 1)))\n",
    "\n",
    "        n_batches = (n + self.batch_size - 1) // self.batch_size\n",
    "        \n",
    "        # iterate over the epochs\n",
    "        for epoch in range(self.epochs):\n",
    "            for b in range(n_batches):\n",
    "                _X_batch = _X[b * self.batch_size : (b + 1) * self.batch_size]\n",
    "                _y_batch = _y[b * self.batch_size : (b + 1) * self.batch_size]\n",
    "                # make prediction\n",
    "                y_pred = self._forward_propagation(_X_batch)\n",
    "                # update weights\n",
    "                dW = self._backward_propagation(_X_batch, _y_batch)\n",
    "                curr_batch_size = _y_batch.shape[0]\n",
    "                self._weight_update(dW, curr_batch_size)\n",
    "            # store the training loss of the current epoch\n",
    "            y_pred = self._forward_propagation(_X)\n",
    "            self.training_losses[epoch] = self.cost_function(_y, y_pred)\n",
    "\n",
    "    # function of prediction\n",
    "    def predict(self, X):\n",
    "        return self.predict_proba(X).argmax(axis=1)\n",
    "    \n",
    "    # function of probability prediction\n",
    "    def predict_proba(self, X):\n",
    "        n, m = X.shape\n",
    "        _X = np.c_[np.ones((n, 1)), X]\n",
    "        \n",
    "        pred_1 = self._forward_propagation(_X)\n",
    "        pred_0 = 1 - pred_1\n",
    "        return np.c_[pred_0, pred_1]"
   ]
  },
  {
   "cell_type": "markdown",
   "metadata": {},
   "source": [
    "d) Train the estimator you implemented using the training set. Use the trained estimator\n",
    "to predict values for the test set.\n",
    "- During training, use the following parameters\n",
    "    - hidden_layers_dimensions = [4,4,4,4]\n",
    "    - learning_rate = 0.0001\n",
    "    - batch_size = 32\n",
    "    - epochs = 100"
   ]
  },
  {
   "cell_type": "code",
   "execution_count": 13,
   "metadata": {},
   "outputs": [
    {
     "name": "stdout",
     "output_type": "stream",
     "text": [
      "[1 1 1 ... 1 1 1]\n",
      "              precision    recall  f1-score   support\n",
      "\n",
      "         0.0       0.00      0.00      0.00      1496\n",
      "         1.0       0.50      1.00      0.67      1504\n",
      "\n",
      "    accuracy                           0.50      3000\n",
      "   macro avg       0.25      0.50      0.33      3000\n",
      "weighted avg       0.25      0.50      0.33      3000\n",
      "\n"
     ]
    },
    {
     "name": "stderr",
     "output_type": "stream",
     "text": [
      "d:\\Programas\\anaconda\\lib\\site-packages\\sklearn\\metrics\\_classification.py:1318: UndefinedMetricWarning: Precision and F-score are ill-defined and being set to 0.0 in labels with no predicted samples. Use `zero_division` parameter to control this behavior.\n",
      "  _warn_prf(average, modifier, msg_start, len(result))\n",
      "d:\\Programas\\anaconda\\lib\\site-packages\\sklearn\\metrics\\_classification.py:1318: UndefinedMetricWarning: Precision and F-score are ill-defined and being set to 0.0 in labels with no predicted samples. Use `zero_division` parameter to control this behavior.\n",
      "  _warn_prf(average, modifier, msg_start, len(result))\n",
      "d:\\Programas\\anaconda\\lib\\site-packages\\sklearn\\metrics\\_classification.py:1318: UndefinedMetricWarning: Precision and F-score are ill-defined and being set to 0.0 in labels with no predicted samples. Use `zero_division` parameter to control this behavior.\n",
      "  _warn_prf(average, modifier, msg_start, len(result))\n"
     ]
    }
   ],
   "source": [
    "from sklearn.metrics import classification_report\n",
    "\n",
    "model2 = NeuralNetClass(hidden_layer_dimensions=[4, 4, 4, 4], learning_rate=0.0001, batch_size=32, epochs=100)\n",
    "model2.fit(X_train_2, y_train_2)\n",
    "\n",
    "y_pred_2_bad = model2.predict(X_test_2)\n",
    "loss_bad = model2.training_losses\n",
    "\n",
    "print(y_pred_2_bad)\n",
    "print(classification_report(y_test_2, y_pred_2_bad))"
   ]
  },
  {
   "cell_type": "markdown",
   "metadata": {},
   "source": [
    "With the suggested hyperparameters my implementation of the classificator hasn't been able to make good predictions.\n",
    "However, with the following hyperparameters, we get good scores.\n",
    "- hyperparameters\n",
    "    - hidden_layers_dimensions = [100, 100, 100, 100]\n",
    "    - learning_rate = 0.0001\n",
    "    - batch_size = 1000\n",
    "    - epochs = 100"
   ]
  },
  {
   "cell_type": "code",
   "execution_count": 14,
   "metadata": {},
   "outputs": [
    {
     "name": "stdout",
     "output_type": "stream",
     "text": [
      "[1 0 0 ... 1 1 1]\n",
      "              precision    recall  f1-score   support\n",
      "\n",
      "         0.0       0.94      0.88      0.91      1496\n",
      "         1.0       0.89      0.94      0.91      1504\n",
      "\n",
      "    accuracy                           0.91      3000\n",
      "   macro avg       0.91      0.91      0.91      3000\n",
      "weighted avg       0.91      0.91      0.91      3000\n",
      "\n"
     ]
    }
   ],
   "source": [
    "model2 = NeuralNetClass(hidden_layer_dimensions=[100, 100, 100, 100], learning_rate=0.0001, batch_size=1000, epochs=100)\n",
    "model2.fit(X_train_2, y_train_2)\n",
    "\n",
    "y_pred_2_good = model2.predict(X_test_2)\n",
    "loss_good = model2.training_losses\n",
    "\n",
    "print(y_pred_2_good)\n",
    "print(classification_report(y_test_2, y_pred_2_good))"
   ]
  },
  {
   "cell_type": "markdown",
   "metadata": {},
   "source": [
    "e) Evaluate the trained model on the test set using the following metrics:\n",
    "- Accuracy\n",
    "- AUC-PR\n",
    "- AUC-ROC"
   ]
  },
  {
   "cell_type": "code",
   "execution_count": 15,
   "metadata": {},
   "outputs": [
    {
     "name": "stdout",
     "output_type": "stream",
     "text": [
      "________________bad________________\n",
      "accuracy score: 0.5\n",
      "PR score: 0.5\n",
      "roc auc score: 0.5\n",
      "________________good________________\n",
      "accuracy score: 0.91\n",
      "PR score: 0.91\n",
      "roc auc score: 0.87\n",
      "____________________________________\n"
     ]
    }
   ],
   "source": [
    "from sklearn.metrics import accuracy_score, roc_auc_score, average_precision_score\n",
    "preds_1 = [y_pred_2_bad, y_pred_2_good]\n",
    "names = ['bad', 'good']\n",
    "for i in range(len(preds_1)):\n",
    "    print(f\"________________{names[i]}________________\")\n",
    "    print(f\"accuracy score: {accuracy_score(y_test_2, preds_1[i]):.2}\")\n",
    "    print(f\"PR score: {roc_auc_score(y_test_2, preds_1[i]):.2}\")\n",
    "    print(f\"roc auc score: {average_precision_score(y_test_2, preds_1[i]):.2}\")\n",
    "print(\"____________________________________\")"
   ]
  },
  {
   "cell_type": "markdown",
   "metadata": {},
   "source": [
    "f) During each epoch of training, collect the loss, and make a plot with the epoch number\n",
    "in the X axis, and the loss on the Y axis"
   ]
  },
  {
   "cell_type": "code",
   "execution_count": 16,
   "metadata": {},
   "outputs": [
    {
     "data": {
      "text/plain": [
       "Text(0.5, 1.0, 'Training Loss')"
      ]
     },
     "execution_count": 16,
     "metadata": {},
     "output_type": "execute_result"
    },
    {
     "data": {
      "image/png": "[encoded data removed]",
      "text/plain": [
       "<Figure size 720x360 with 1 Axes>"
      ]
     },
     "metadata": {
      "needs_background": "light"
     },
     "output_type": "display_data"
    }
   ],
   "source": [
    "fig, ax = plt.subplots(figsize=(10,5))\n",
    "\n",
    "ax.plot(loss_bad, label='bad hyperparameters')\n",
    "ax.plot(loss_good, label='good hyperparameters')\n",
    "ax.legend()\n",
    "ax.set_xlabel(\"Epochs\")\n",
    "ax.set_ylabel(\"Loss\")\n",
    "ax.set_title(\"Training Loss\")"
   ]
  },
  {
   "cell_type": "markdown",
   "metadata": {},
   "source": [
    "g) Print the confusion matrix related to the test set."
   ]
  },
  {
   "cell_type": "code",
   "execution_count": 17,
   "metadata": {},
   "outputs": [
    {
     "data": {
      "image/png": "[encoded data removed]",
      "text/plain": [
       "<Figure size 432x288 with 2 Axes>"
      ]
     },
     "metadata": {
      "needs_background": "light"
     },
     "output_type": "display_data"
    }
   ],
   "source": [
    "from sklearn.metrics import confusion_matrix, ConfusionMatrixDisplay\n",
    "\n",
    "cm = confusion_matrix(y_test_2, y_pred_2_good)\n",
    "disp = ConfusionMatrixDisplay(confusion_matrix=cm)\n",
    "disp.plot(cmap=\"viridis\")\n",
    "    \n",
    "plt.show()"
   ]
  },
  {
   "cell_type": "markdown",
   "metadata": {},
   "source": [
    "<hr>\n",
    "\n",
    "## **3)** Random forest"
   ]
  },
  {
   "cell_type": "markdown",
   "metadata": {},
   "source": [
    "a) Load the data into a pandas DataFrame, and get a scikit-learn compatible dataset."
   ]
  },
  {
   "cell_type": "code",
   "execution_count": 18,
   "metadata": {},
   "outputs": [],
   "source": [
    "columns = [\"age\", \"workclass\", \"fnlwgt\", \"education\", \"education-num\", \"marital-status\", \"occupation\", \"relationship\", \"race\", \"sex\", \"capital-gain\", \"capital-loss\", \"hours-per-week\", \"native-country\", \"income\"]\n",
    "\n",
    "data3 = pd.read_csv(\"adult.data\", header=None, names=columns)\n",
    "\n",
    "partial_data_3 = data3.head(int(data3.shape[0])).head(1000)\n",
    "\n",
    "features_3 = [x for x in partial_data_3.columns.drop(\"income\")]\n",
    "\n",
    "X_3 = partial_data_3[features_3]\n",
    "y_3 = partial_data_3[\"income\"]"
   ]
  },
  {
   "cell_type": "markdown",
   "metadata": {},
   "source": [
    "b) Make a 70%/30% split of the dataset for training and testing respectively."
   ]
  },
  {
   "cell_type": "code",
   "execution_count": 19,
   "metadata": {},
   "outputs": [
    {
     "name": "stdout",
     "output_type": "stream",
     "text": [
      "Tamanho de treino: (700, 14)\n",
      "Tamanho de teste: (300, 14)\n"
     ]
    }
   ],
   "source": [
    "# train test split of data3\n",
    "X_train_3, X_test_3, y_train_3, y_test_3 = train_test_split(X_3, y_3, test_size=0.30, random_state=0)\n",
    "\n",
    "print(f\"Tamanho de treino: {X_train_3.shape}\")\n",
    "print(f\"Tamanho de teste: {X_test_3.shape}\")"
   ]
  },
  {
   "cell_type": "markdown",
   "metadata": {},
   "source": [
    "c) An implementation of the Random Forest algorithm, as described in Section 8.2.2 of the\n",
    "Witten, James, Hastie & Tibshirani book. You should add the following options:\n",
    "- A parameter num_features for the number of predictors to consider at each split\n",
    "- A parameter num_trees to control the number of trees in the forest\n",
    "- Parameters for controlling the growth of trees, you need to implement at least\n",
    "two of the following:\n",
    "    - Maximum level of the tree\n",
    "    - Minimum number of observations in a node\n",
    "    - Stopping criterion based on the proportion of classes in the node"
   ]
  },
  {
   "cell_type": "markdown",
   "metadata": {},
   "source": [
    "### Decision Tree implementation"
   ]
  },
  {
   "cell_type": "code",
   "execution_count": 20,
   "metadata": {},
   "outputs": [],
   "source": [
    "# function for entropy\n",
    "def entropy(y):\n",
    "    # get the unique samples\n",
    "    unique_samples = set(y.flatten())\n",
    "    entropy = 0\n",
    "    # calculate the entropy\n",
    "    for i in unique_samples:\n",
    "        p = y[y == i].shape[0] / y.shape[0]\n",
    "        entropy -= p * np.log2(p)\n",
    "    return entropy\n",
    "\n",
    "# function for information gain\n",
    "def information_gain(parent, right, left):\n",
    "    entropy_parent = entropy(parent)\n",
    "    # calculate the weights for the children\n",
    "    right_frac = right.shape[0] / parent.shape[0]\n",
    "    left_frac = left.shape[0] / parent.shape[0]\n",
    "    # calculate the information gain\n",
    "    ig = entropy_parent - (right_frac * entropy(right) + left_frac * entropy(left))\n",
    "    return ig\n",
    "\n",
    "# Node class\n",
    "class Node:\n",
    "    def __init__(self, is_leaf=None,feature=None, threshold=None, left=None, right=None, value=None):\n",
    "        self.feature = feature # index of the feature\n",
    "        self.threshold = threshold # value for threshold\n",
    "        self.left = left\n",
    "        self.right = right\n",
    "        self.value = value\n",
    "        self.is_leaf = is_leaf\n",
    "\n",
    "# Decision Tree class\n",
    "class DecisionTree(BaseEstimator, ClassifierMixin):\n",
    "    def __init__(self, min_split = 2, max_depth=100, number_of_feats=None, min_samples_quant=2):\n",
    "        self.min_split = min_split # minimum number of samples for a split\n",
    "        self.max_depth = max_depth # maximum depth of the tree\n",
    "        self.number_of_feats = number_of_feats # number of features to use\n",
    "        self.root = None\n",
    "        self.min_samples_quant = min_samples_quant # number of categories in the remaing cut\n",
    "    \n",
    "    # calculate the most commom value in the array\n",
    "    def _majority_vote(self, y):\n",
    "        unique_samples = set(y.flatten())\n",
    "        max_count = 0\n",
    "        max_label = None\n",
    "        for i in unique_samples:\n",
    "            count = y[y == i].shape[0]\n",
    "            if count > max_count:\n",
    "                max_count = count\n",
    "                max_label = i\n",
    "        return max_label\n",
    "\n",
    "    # function for splitting the data\n",
    "    def _find_best_split(self, X, random_feat):\n",
    "        feat_cut = None\n",
    "        threshold = None\n",
    "        best_ig = -1\n",
    "        for i in random_feat:\n",
    "            for j in np.unique(X[:, i].flatten()):\n",
    "                # get the right and left data\n",
    "                right = X[X[:, i] > j][:,i]\n",
    "                left = X[X[:, i] <= j][:,i]\n",
    "                # calculate the information gain\n",
    "                ig = information_gain(X[:, i], right, left)\n",
    "                if ig > best_ig:\n",
    "                    best_ig = ig\n",
    "                    feat_cut = i\n",
    "                    threshold = j\n",
    "        # return the best cut and its threshold\n",
    "        return feat_cut, threshold\n",
    "    \n",
    "    # function for creating the tree\n",
    "    def _build_tree(self, X, y, depth=0):\n",
    "        # number of different labels in the data\n",
    "        n_labels = len(np.unique(y))\n",
    "\n",
    "        # bool variable for growth stopping\n",
    "        criterias = (depth >= self.max_depth) or \\\n",
    "            (n_labels == self.min_samples_quant) or \\\n",
    "            (len(X) <= self.min_split)\n",
    "\n",
    "        # stop the growth if the criterias are met\n",
    "        if criterias:\n",
    "            return Node(is_leaf=True, value=self._majority_vote(y))\n",
    "        \n",
    "        # choose random features if needed\n",
    "        random_feat = np.random.choice(X.shape[1], self.number_of_feats, replace=False)\n",
    "        \n",
    "        # find the best split\n",
    "        feat_cut, threshold = self._find_best_split(X, random_feat)\n",
    "        \n",
    "        # create the left and right nodes\n",
    "        left = self._build_tree(X[X[:, feat_cut] <= threshold], y[X[:, feat_cut] <= threshold], depth + 1)\n",
    "        right = self._build_tree(X[X[:, feat_cut] > threshold], y[X[:, feat_cut] > threshold], depth + 1)\n",
    "        \n",
    "        # return the root node\n",
    "        return Node(is_leaf=False, feature=feat_cut, threshold=threshold, left=left, right=right)\n",
    "\n",
    "    def fit(self, X, y):\n",
    "        # Verifica se n_feat é None\n",
    "        if self.number_of_feats is None:\n",
    "            # define the number of features to use as the total\n",
    "            self.number_of_feats = X.shape[1]\n",
    "        else:\n",
    "            # define the number of features\n",
    "            self.number_of_feats = min(self.number_of_feats, X.shape[1])\n",
    "        \n",
    "        # build the tree\n",
    "        self.root = self._build_tree(X, y)\n",
    "\n",
    "    # function for predicting the data\n",
    "    def predict(self, X):\n",
    "        preditions = [self.make_prediction(x, self.root) for x in X]\n",
    "        return preditions\n",
    "    \n",
    "    # function for making a prediction\n",
    "    def make_prediction(self, x, tree):\n",
    "        # traverse the tree, stop if the node is a leaf\n",
    "        if tree.is_leaf: \n",
    "            return tree.value\n",
    "        feature_val = x[tree.feature]\n",
    "        \n",
    "        if feature_val<=tree.threshold:\n",
    "            return self.make_prediction(x, tree.left)\n",
    "        return self.make_prediction(x, tree.right)"
   ]
  },
  {
   "cell_type": "markdown",
   "metadata": {},
   "source": [
    "### Decision Tree tests:"
   ]
  },
  {
   "cell_type": "code",
   "execution_count": 21,
   "metadata": {},
   "outputs": [],
   "source": [
    "tree_test = DecisionTree(min_split=2, max_depth=5, number_of_feats=None, min_samples_quant=1)\n",
    "tree_test.fit(X_train_3.to_numpy(), y_train_3.to_numpy())\n",
    "pred_tree = tree_test.predict(X_test_3.to_numpy())"
   ]
  },
  {
   "cell_type": "code",
   "execution_count": 22,
   "metadata": {},
   "outputs": [
    {
     "data": {
      "text/plain": [
       "0.7633333333333333"
      ]
     },
     "execution_count": 22,
     "metadata": {},
     "output_type": "execute_result"
    }
   ],
   "source": [
    "accuracy_score(y_test_3, pred_tree)"
   ]
  },
  {
   "cell_type": "markdown",
   "metadata": {},
   "source": [
    "### Random Forest implementation"
   ]
  },
  {
   "cell_type": "code",
   "execution_count": 23,
   "metadata": {},
   "outputs": [],
   "source": [
    "# Random Forest class\n",
    "class RandomForest(BaseEstimator, ClassifierMixin):\n",
    "    def __init__(self, n_tree=100, max_depth=100, min_samples_quant=1, number_of_feats=None, min_split=2):\n",
    "        self.n_tree = n_tree # number of trees in the forest\n",
    "        self.max_depth = max_depth # maximum depth of the tree\n",
    "        self.min_samples_quant = min_samples_quant # number of categories in the remaing cut\n",
    "        self.number_of_feats = number_of_feats # number of features to use\n",
    "        self.min_split = min_split\n",
    "        self.Dtrees = []\n",
    "\n",
    "        # set the seed\n",
    "        self.rng = np.random.default_rng(0)\n",
    "\n",
    "    # function for bootstrapping the data\n",
    "    def _bootstrap(self, X, y):\n",
    "        n_samples = X.shape[0]\n",
    "        idx = self.rng.choice(n_samples, n_samples, replace=True)\n",
    "        return X[idx], y[idx]\n",
    "        \n",
    "    def fit(self, X, y):\n",
    "        # Get the input right\n",
    "        X = X.to_numpy()\n",
    "        y = y.to_numpy()\n",
    "        self.Dtrees = []\n",
    "\n",
    "        # create the trees\n",
    "        for i in range(self.n_tree):\n",
    "            tree = DecisionTree(min_split=self.min_split, max_depth=self.max_depth, \\\n",
    "                number_of_feats=self.number_of_feats, min_samples_quant=self.min_samples_quant)\n",
    "            X_boot, y_boot = self._bootstrap(X, y)\n",
    "            tree.fit(X_boot, y_boot)\n",
    "            self.Dtrees.append(tree)\n",
    "\n",
    "    def predict(self, X):\n",
    "        # get the input right\n",
    "        X = X.to_numpy()\n",
    "\n",
    "        preds = []\n",
    "        # make the predictions\n",
    "        for tree in self.Dtrees:\n",
    "            preds.append(tree.predict(X))\n",
    "\n",
    "        # swap axes to see wich class is the most common\n",
    "        preds = np.array(preds)\n",
    "        preds = np.swapaxes(preds, 0, 1)\n",
    "\n",
    "        return np.array([self._majority_vote(x) for x in preds])\n",
    "\n",
    "    # function to see the most common class\n",
    "    def _majority_vote(self, row):\n",
    "        a, _ = np.unique(row, return_counts=True)\n",
    "        return a[0]\n",
    "\n",
    "    # calculate the probability of positive class\n",
    "    def _probability(self, row):\n",
    "        return np.count_nonzero(row == 1) / len(row)\n",
    "\n",
    "    def predict_proba(self, X):\n",
    "        X = X.to_numpy()\n",
    "        preds = []\n",
    "        for tree in self.Dtrees:\n",
    "            preds.append(tree.predict(X))\n",
    "\n",
    "        preds = np.array(preds)\n",
    "        preds = np.swapaxes(preds, 0, 1)\n",
    "        \n",
    "        proba = np.array([self._probability(x) for x in preds])\n",
    "        return np.c_[1-proba, proba]"
   ]
  },
  {
   "cell_type": "markdown",
   "metadata": {},
   "source": [
    "### Random forest test"
   ]
  },
  {
   "cell_type": "code",
   "execution_count": 24,
   "metadata": {},
   "outputs": [
    {
     "data": {
      "text/plain": [
       "0.7866666666666666"
      ]
     },
     "execution_count": 24,
     "metadata": {},
     "output_type": "execute_result"
    }
   ],
   "source": [
    "forest_test = RandomForest(n_tree=5, max_depth=5, min_samples_quant=1, number_of_feats=None, min_split=1)\n",
    "forest_test.fit(X_train_3, y_train_3)\n",
    "pred_forest = forest_test.predict(X_test_3)\n",
    "accuracy_score(y_test_3, pred_forest)"
   ]
  },
  {
   "cell_type": "markdown",
   "metadata": {},
   "source": [
    "<hr>\n",
    "\n",
    "## **4)** Performance comparison"
   ]
  },
  {
   "cell_type": "markdown",
   "metadata": {},
   "source": [
    "### My classifiers"
   ]
  },
  {
   "cell_type": "markdown",
   "metadata": {},
   "source": [
    "a) Use your classifiers (multi-layer perceptron classifier and random forest).\n",
    "- Train them on the training set.\n",
    "- Make predictions on the test set"
   ]
  },
  {
   "cell_type": "code",
   "execution_count": 25,
   "metadata": {},
   "outputs": [
    {
     "name": "stdout",
     "output_type": "stream",
     "text": [
      "[0 0 0 ... 1 1 1]\n",
      "              precision    recall  f1-score   support\n",
      "\n",
      "         0.0       0.93      0.89      0.91      1496\n",
      "         1.0       0.89      0.94      0.91      1504\n",
      "\n",
      "    accuracy                           0.91      3000\n",
      "   macro avg       0.91      0.91      0.91      3000\n",
      "weighted avg       0.91      0.91      0.91      3000\n",
      "\n"
     ]
    }
   ],
   "source": [
    "mine_mlp = NeuralNetClass(hidden_layer_dimensions=[100, 100, 100, 100, 100], learning_rate=0.0001, batch_size=1000, epochs=100)\n",
    "mine_mlp.fit(X_train_2, y_train_2)\n",
    "\n",
    "print(mine_mlp.predict(X_test_2))\n",
    "\n",
    "print(classification_report(y_test_2, mine_mlp.predict(X_test_2)))"
   ]
  },
  {
   "cell_type": "code",
   "execution_count": 26,
   "metadata": {},
   "outputs": [
    {
     "name": "stdout",
     "output_type": "stream",
     "text": [
      "              precision    recall  f1-score   support\n",
      "\n",
      "         0.0       0.62      1.00      0.76        13\n",
      "         1.0       1.00      0.53      0.69        17\n",
      "\n",
      "    accuracy                           0.73        30\n",
      "   macro avg       0.81      0.76      0.73        30\n",
      "weighted avg       0.83      0.73      0.72        30\n",
      "\n"
     ]
    }
   ],
   "source": [
    "forest_test = RandomForest(n_tree=5, max_depth=10, number_of_feats=None, min_split=2)\n",
    "forest_test.fit(X_train_2.head(70), y_train_2.head(70))\n",
    "\n",
    "pred_forest = forest_test.predict(X_test_2.head(30))\n",
    "\n",
    "print(classification_report(y_test_2.head(30), pred_forest))"
   ]
  },
  {
   "cell_type": "markdown",
   "metadata": {},
   "source": [
    "### Scikit classifiers"
   ]
  },
  {
   "cell_type": "markdown",
   "metadata": {},
   "source": [
    "b) Choose any 3 classifiers from scikit-learn and repeat steps in a) for each classifier. You\n",
    "can find a list of classifiers on the scikit-learn documentation.\n"
   ]
  },
  {
   "cell_type": "code",
   "execution_count": 27,
   "metadata": {},
   "outputs": [
    {
     "name": "stdout",
     "output_type": "stream",
     "text": [
      "[0. 0. 0. ... 1. 1. 1.]\n",
      "              precision    recall  f1-score   support\n",
      "\n",
      "         0.0       0.94      0.90      0.92      1496\n",
      "         1.0       0.90      0.94      0.92      1504\n",
      "\n",
      "    accuracy                           0.92      3000\n",
      "   macro avg       0.92      0.92      0.92      3000\n",
      "weighted avg       0.92      0.92      0.92      3000\n",
      "\n"
     ]
    },
    {
     "name": "stderr",
     "output_type": "stream",
     "text": [
      "d:\\Programas\\anaconda\\lib\\site-packages\\sklearn\\neural_network\\_multilayer_perceptron.py:692: ConvergenceWarning: Stochastic Optimizer: Maximum iterations (100) reached and the optimization hasn't converged yet.\n",
      "  warnings.warn(\n"
     ]
    }
   ],
   "source": [
    "from sklearn.neural_network import MLPClassifier\n",
    "\n",
    "nc = MLPClassifier(random_state=0, max_iter=100)\n",
    "nc.fit(X_train_2, y_train_2)\n",
    "\n",
    "print(nc.predict(X_test_2))\n",
    "\n",
    "print(classification_report(y_test_2, nc.predict(X_test_2)))"
   ]
  },
  {
   "cell_type": "code",
   "execution_count": 28,
   "metadata": {},
   "outputs": [
    {
     "name": "stdout",
     "output_type": "stream",
     "text": [
      "[1. 0. 0. ... 0. 1. 0.]\n",
      "              precision    recall  f1-score   support\n",
      "\n",
      "         0.0       0.89      0.87      0.88      1496\n",
      "         1.0       0.87      0.89      0.88      1504\n",
      "\n",
      "    accuracy                           0.88      3000\n",
      "   macro avg       0.88      0.88      0.88      3000\n",
      "weighted avg       0.88      0.88      0.88      3000\n",
      "\n"
     ]
    }
   ],
   "source": [
    "from sklearn import tree\n",
    "tree_class = tree.DecisionTreeClassifier()\n",
    "tree_class = tree_class.fit(X_train_2, y_train_2)\n",
    "\n",
    "print(tree_class.predict(X_test_2))\n",
    "\n",
    "print(classification_report(y_test_2, tree_class.predict(X_test_2)))"
   ]
  },
  {
   "cell_type": "code",
   "execution_count": 29,
   "metadata": {},
   "outputs": [
    {
     "name": "stdout",
     "output_type": "stream",
     "text": [
      "[0. 0. 1. ... 1. 1. 1.]\n",
      "              precision    recall  f1-score   support\n",
      "\n",
      "         0.0       0.82      0.73      0.77      1496\n",
      "         1.0       0.76      0.84      0.80      1504\n",
      "\n",
      "    accuracy                           0.79      3000\n",
      "   macro avg       0.79      0.79      0.78      3000\n",
      "weighted avg       0.79      0.79      0.78      3000\n",
      "\n"
     ]
    }
   ],
   "source": [
    "from sklearn.naive_bayes import GaussianNB\n",
    "gaussian = GaussianNB()\n",
    "gaussian = gaussian.fit(X_train_2, y_train_2)\n",
    "\n",
    "print(gaussian.predict(X_test_2))\n",
    "\n",
    "print(classification_report(y_test_2, gaussian.predict(X_test_2)))"
   ]
  },
  {
   "cell_type": "markdown",
   "metadata": {},
   "source": [
    "c) You will have obtained 5 sets of predictions from all the models you trained. Use these\n",
    "predictions and the labels from the test set to calculate the performance of each model\n",
    "using the following performance metrics:\n",
    "- Precision\n",
    "- Recall\n",
    "- AUC-ROC\n",
    "- AUC-PR"
   ]
  },
  {
   "cell_type": "markdown",
   "metadata": {},
   "source": [
    "### Comparisions"
   ]
  },
  {
   "cell_type": "code",
   "execution_count": 34,
   "metadata": {},
   "outputs": [
    {
     "name": "stdout",
     "output_type": "stream",
     "text": [
      "_____________Random Forest______________\n",
      "\n",
      "precision: 0.955\n",
      "recall: 0.467\n",
      "PR score: 0.896\n",
      "ROC score: 0.919\n",
      "\n",
      "_____________NeuralNet______________\n",
      "\n",
      "precision: 0.892\n",
      "recall: 0.938\n",
      "PR score: 0.956\n",
      "ROC score: 0.966\n",
      "\n",
      "_____________Nearest Centroid______________\n",
      "\n",
      "precision: 0.902\n",
      "recall: 0.941\n",
      "PR score: 0.956\n",
      "ROC score: 0.967\n",
      "\n",
      "_____________Decision Tree______________\n",
      "\n",
      "precision: 0.873\n",
      "recall: 0.888\n",
      "PR score: 0.832\n",
      "ROC score: 0.879\n",
      "\n",
      "_____________Naive Bayes______________\n",
      "\n",
      "precision: 0.756\n",
      "recall: 0.844\n",
      "PR score: 0.854\n",
      "ROC score: 0.873\n",
      "\n",
      "______________________________________\n"
     ]
    }
   ],
   "source": [
    "from sklearn.metrics import precision_score\n",
    "from sklearn.metrics import recall_score\n",
    "models = [forest_test, mine_mlp, nc, tree_class, gaussian]\n",
    "names = [\"Random Forest\", \"NeuralNet\", \"Nearest Centroid\", \"Decision Tree\", \"Naive Bayes\"]\n",
    "\n",
    "X_test_2\n",
    "y_test_2\n",
    "precisions = []\n",
    "recalls = []\n",
    "PRs = []\n",
    "ROCs = []\n",
    "\n",
    "for i in range(len(models)):\n",
    "    y_pred_2 = models[i].predict(X_test_2)\n",
    "    y_pred_2_proba = models[i].predict_proba(X_test_2)[:,1]\n",
    "    print(f\"_____________{names[i]}______________\\n\")\n",
    "    precisions.append(round(precision_score(y_test_2, y_pred_2), 3))\n",
    "    print(f\"precision: {precisions[-1]}\")\n",
    "    recalls.append(round(recall_score(y_test_2, y_pred_2), 3))\n",
    "    print(f\"recall: {recalls[-1]}\")\n",
    "    PRs.append(round(average_precision_score(y_test_2, y_pred_2_proba), 3))\n",
    "    print(f\"PR score: {PRs[-1]}\")\n",
    "    ROCs.append(round(roc_auc_score(y_test_2, y_pred_2_proba),3))\n",
    "    print(f\"ROC score: {ROCs[-1]}\")\n",
    "    print()\n",
    "print(\"______________________________________\")"
   ]
  },
  {
   "cell_type": "markdown",
   "metadata": {},
   "source": [
    "d) Create a comparison report. Your code will:\n",
    "- Print a table with values of the performance metric (columns) for each model\n",
    "(rows) on the test set.\n",
    "- Make a single figure containing 2 subplots. In the first subplot, you will plot the\n",
    "ROC curves for each model. In the second subplot, you will plot the PR curves for\n",
    "each model"
   ]
  },
  {
   "cell_type": "code",
   "execution_count": 31,
   "metadata": {},
   "outputs": [
    {
     "data": {
      "text/html": [
       "<div>\n",
       "<style scoped>\n",
       "    .dataframe tbody tr th:only-of-type {\n",
       "        vertical-align: middle;\n",
       "    }\n",
       "\n",
       "    .dataframe tbody tr th {\n",
       "        vertical-align: top;\n",
       "    }\n",
       "\n",
       "    .dataframe thead th {\n",
       "        text-align: right;\n",
       "    }\n",
       "</style>\n",
       "<table border=\"1\" class=\"dataframe\">\n",
       "  <thead>\n",
       "    <tr style=\"text-align: right;\">\n",
       "      <th></th>\n",
       "      <th>Precison</th>\n",
       "      <th>Recall</th>\n",
       "      <th>AUC</th>\n",
       "      <th>ROC</th>\n",
       "    </tr>\n",
       "  </thead>\n",
       "  <tbody>\n",
       "    <tr>\n",
       "      <th>Random Forest</th>\n",
       "      <td>0.955</td>\n",
       "      <td>0.467</td>\n",
       "      <td>0.713</td>\n",
       "      <td>0.723</td>\n",
       "    </tr>\n",
       "    <tr>\n",
       "      <th>NeuralNet</th>\n",
       "      <td>0.892</td>\n",
       "      <td>0.938</td>\n",
       "      <td>0.868</td>\n",
       "      <td>0.912</td>\n",
       "    </tr>\n",
       "    <tr>\n",
       "      <th>Nearest Centroid</th>\n",
       "      <td>0.902</td>\n",
       "      <td>0.941</td>\n",
       "      <td>0.878</td>\n",
       "      <td>0.919</td>\n",
       "    </tr>\n",
       "    <tr>\n",
       "      <th>Decision Tree</th>\n",
       "      <td>0.873</td>\n",
       "      <td>0.888</td>\n",
       "      <td>0.832</td>\n",
       "      <td>0.879</td>\n",
       "    </tr>\n",
       "    <tr>\n",
       "      <th>Naive Bayes</th>\n",
       "      <td>0.756</td>\n",
       "      <td>0.844</td>\n",
       "      <td>0.716</td>\n",
       "      <td>0.785</td>\n",
       "    </tr>\n",
       "  </tbody>\n",
       "</table>\n",
       "</div>"
      ],
      "text/plain": [
       "                  Precison  Recall    AUC    ROC\n",
       "Random Forest        0.955   0.467  0.713  0.723\n",
       "NeuralNet            0.892   0.938  0.868  0.912\n",
       "Nearest Centroid     0.902   0.941  0.878  0.919\n",
       "Decision Tree        0.873   0.888  0.832  0.879\n",
       "Naive Bayes          0.756   0.844  0.716  0.785"
      ]
     },
     "execution_count": 31,
     "metadata": {},
     "output_type": "execute_result"
    }
   ],
   "source": [
    "df = pd.DataFrame(list(zip(precisions, recalls, PRs, ROCs)),\n",
    "               columns =['Precison', 'Recall', 'AUC', 'ROC'],\n",
    "               index=names)\n",
    "df"
   ]
  },
  {
   "cell_type": "code",
   "execution_count": 43,
   "metadata": {},
   "outputs": [
    {
     "data": {
      "text/plain": [
       "Text(0.5, 1.0, 'Precision-Recall curve')"
      ]
     },
     "execution_count": 43,
     "metadata": {},
     "output_type": "execute_result"
    },
    {
     "data": {
      "image/png": "[encoded data removed]",
      "text/plain": [
       "<Figure size 720x720 with 2 Axes>"
      ]
     },
     "metadata": {
      "needs_background": "light"
     },
     "output_type": "display_data"
    }
   ],
   "source": [
    "from sklearn.metrics import roc_curve, precision_recall_curve, auc\n",
    "\n",
    "fig, ax = plt.subplots(2, figsize=(10,10))\n",
    "\n",
    "for i in range(len(models)):\n",
    "    fpr, tpr, thresholds = roc_curve(y_test_2, models[i].predict_proba(X_test_2)[:,1])\n",
    "    ax[0].plot(fpr, tpr, label=names[i])\n",
    "    ax[0].plot([0, 1], [0, 1], color='black', lw=1, linestyle='--')\n",
    "    ax[0].legend()\n",
    "\n",
    "    recall, precision, thresholds = precision_recall_curve(y_test_2, models[i].predict_proba(X_test_2)[:,1])\n",
    "    ax[1].plot(precision, recall, label=names[i])\n",
    "    ax[1].legend()\n",
    "\n",
    "ax[0].set_title(\"ROC curve\")\n",
    "ax[1].set_title(\"Precision-Recall curve\")"
   ]
  },
  {
   "cell_type": "code",
   "execution_count": null,
   "metadata": {},
   "outputs": [],
   "source": [
    "\n",
    "for i in range(len(pred)):\n",
    "    fpr, tpr, _ = metrics.roc_curve(y2_test, pred[i])\n",
    "    auc = round(metrics.roc_auc_score(y2_test, pred[i]), 4)\n",
    "    ax1.plot(fpr,tpr,label=label[i]+\", AUC=\"+str(auc))\n",
    "ax1.plot([0, 1], [0, 1], color='navy', lw=2, linestyle='--')\n",
    "\n",
    "for i in range(len(pred)):\n",
    "    precision, recall, _ = metrics.precision_recall_curve(y2_test, pred[i])\n",
    "    auc_pr = round(metrics.auc(recall, precision), 4)\n",
    "    ax2.plot(recall, precision, label=label[i]+\", AUC-PR=\"+str(auc_pr))"
   ]
  }
 ],
 "metadata": {
  "interpreter": {
   "hash": "e2b3411e9fd7ba1867b3fa0e3f5ed61c5273131a2f49fe4d5db3319f94defb8e"
  },
  "kernelspec": {
   "display_name": "Python 3.8.8 ('base')",
   "language": "python",
   "name": "python3"
  },
  "language_info": {
   "codemirror_mode": {
    "name": "ipython",
    "version": 3
   },
   "file_extension": ".py",
   "mimetype": "text/x-python",
   "name": "python",
   "nbconvert_exporter": "python",
   "pygments_lexer": "ipython3",
   "version": "3.8.8"
  },
  "orig_nbformat": 4
 },
 "nbformat": 4,
 "nbformat_minor": 2
}
